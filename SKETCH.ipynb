{
 "cells": [
  {
   "cell_type": "markdown",
   "metadata": {},
   "source": [
    "This code functions to characterize mRNAs in edited sequences based on a given set of reference sequences.  This code relies heavily on the Levenshtein software package.  Information on this package and download instructions can be found here:\n",
    "\n",
    "https://pypi.org/project/python-Levenshtein/"
   ]
  },
  {
   "cell_type": "code",
   "execution_count": 1,
   "metadata": {
    "collapsed": true
   },
   "outputs": [],
   "source": [
    "import time\n",
    "from Levenshtein import distance\n",
    "t0=time.time()"
   ]
  },
  {
   "cell_type": "markdown",
   "metadata": {},
   "source": [
    "These cells are the functions required for this code to run."
   ]
  },
  {
   "cell_type": "code",
   "execution_count": 2,
   "metadata": {
    "collapsed": true
   },
   "outputs": [],
   "source": [
    "def extractSequences(filename):\n",
    "    F=open(filename)\n",
    "    content=F.readlines()\n",
    "    F.close()\n",
    "    sequences=list() #dummy list to hold raw sequence information\n",
    "    for lines in range(len(content)):\n",
    "        #find the start of the sequence\n",
    "        if content[lines][0]==\">\":\n",
    "            sequence=\"\"\n",
    "            sequence=sequence+content[lines]+content[lines+1]\n",
    "            sequences.append(sequence)\n",
    "    allSeq=list()\n",
    "    #convert all raw sequences to the Sequence class in a new list\n",
    "    for i in range(len(sequences)):\n",
    "        seqi=Sequence(sequences[i])\n",
    "        allSeq.append(seqi)\n",
    "        if i%10000==0:\n",
    "            print i\n",
    "    return allSeq"
   ]
  },
  {
   "cell_type": "code",
   "execution_count": 3,
   "metadata": {
    "collapsed": true
   },
   "outputs": [],
   "source": [
    "class Sequence:\n",
    "    def __init__(self,string):\n",
    "        self.content=string\n",
    "        #remove *s, us, and Ts\n",
    "        self.content=self.content.replace(\"*\",\"\")\n",
    "        self.content=self.content.replace(\"u\",\"U\")\n",
    "        self.content=self.content.replace(\"t\",\"U\")\n",
    "        self.content=self.content.replace(\"T\",\"U\")\n",
    "        self.content=self.content.replace(\"a\",\"A\")\n",
    "        self.content=self.content.replace(\"g\",\"G\")\n",
    "        self.content=self.content.replace(\"c\",\"C\")\n",
    "\n",
    "        #count the length of the name\n",
    "        self.titleLength=0\n",
    "        while self.content[self.titleLength]!=(\"\\n\"):\n",
    "            self.titleLength=self.titleLength+1\n",
    "        \n",
    "        #make the title\n",
    "        self.title=\"\"\n",
    "        for i in range(self.titleLength-1):\n",
    "            self.title=self.title+self.content[i+1]#this excludes the \">\" at the beginning of each line\n",
    "        \n",
    "        #extract the sequence by looking after the title\n",
    "        self.sequence=self.content[self.titleLength+1]\n",
    "        for i in range(self.titleLength+2,len(self.content)):\n",
    "            self.sequence=self.sequence+self.content[i]\n",
    "        self.sequence=self.sequence.replace(\"\\n\",\"\")#remove linebreaks\n",
    "        \n",
    "        #Separate accession and abundance acc-abund\n",
    "        self.accession=self.title[0:self.title.find(\"-\")]\n",
    "        self.abundance=int(self.title[self.title.find(\"-\")+1:])\n",
    "        \n",
    "        #States list\n",
    "        self.states=[[],[],[],[],[],[],[],[],[],[],[],[]]\n",
    "        self.statesCompare=[]\n",
    "        self.uned=[\"\",\"\",\"\",\"\",\"\",\"\",\"\",\"\",\"\",\"\",\"\",\"\"]\n",
    "        \n",
    "        #make the noU sequence and the U list\n",
    "        self.uList=list()\n",
    "        uCounter=0 #counts the number of Us at any given position\n",
    "        seqPos=0 #is the placekeeper in the sequence\n",
    "        self.noUs=\"\"\n",
    "        #initialize the uList\n",
    "        if self.sequence[0]==\"U\":\n",
    "            uCounter=1\n",
    "            seqPos=1\n",
    "            #count how many consecutive Us are at this position\n",
    "            while self.sequence[uCounter]==\"U\":\n",
    "                uCounter=uCounter+1\n",
    "                seqPos=seqPos+1\n",
    "            self.uList.append(uCounter)\n",
    "        else:\n",
    "            self.uList.append(0)\n",
    "        #add each non-U nucleotide to the noUs string and count how many Us come after each nucleotide\n",
    "        while seqPos<len(self.sequence):\n",
    "            self.noUs=self.noUs+self.sequence[seqPos]\n",
    "            seqPos=seqPos+1\n",
    "            uCounter=0\n",
    "            if seqPos<len(self.sequence):\n",
    "                if self.sequence[seqPos]==\"U\":\n",
    "                    uCounter=1\n",
    "                    seqPos=seqPos+1\n",
    "                    while seqPos<len(self.sequence) and self.sequence[seqPos]==\"U\":\n",
    "                        uCounter=uCounter+1\n",
    "                        seqPos=seqPos+1\n",
    "                    self.uList.append(uCounter)\n",
    "                else:\n",
    "                    self.uList.append(0)\n",
    "        #for some reason, it wasn't adding the U at the end every time, so I added these two lines\n",
    "        if self.sequence[seqPos-1]!=\"U\":\n",
    "            self.uList.append(0)"
   ]
  },
  {
   "cell_type": "code",
   "execution_count": 4,
   "metadata": {
    "collapsed": true
   },
   "outputs": [],
   "source": [
    "def testastate(statename,stateseq,seqgroup):\n",
    "    statenamemut=statename+\"M\"\n",
    "    halfpoint=len(stateseq)/2\n",
    "    for i in range(len(seqgroup)):\n",
    "        if seqgroup[i].sequence.find(stateseq)>-1:\n",
    "            seqgroup[i].states.append(statename)\n",
    "        elif seqgroup[i].sequence.find(stateseq[0:halfpoint])>-1:\n",
    "            if seqCompare(seqgroup[i].sequence,stateseq)==1:\n",
    "                seqgroup[i].states.append(statenamemut)\n",
    "        elif seqgroup[i].sequence.find(stateseq[halfpoint:])>-1:\n",
    "            if seqCompare(seqgroup[i].sequence,stateseq)==1:\n",
    "                seqgroup[i].states.append(statenamemut)\n",
    "        if i%10000==0:\n",
    "            print i\n",
    "    return seqgroup"
   ]
  },
  {
   "cell_type": "code",
   "execution_count": 5,
   "metadata": {
    "collapsed": true
   },
   "outputs": [],
   "source": [
    "def testastateSpecExcl(statename,stateseq,seqgroup,listnum):\n",
    "    statenamemut=statename+\"M\"\n",
    "    halfpoint=len(stateseq)/2\n",
    "    for i in range(len(seqgroup)):\n",
    "        if len(seqgroup[i].states[listnum])==0:\n",
    "            if seqgroup[i].sequence.find(stateseq)>-1:\n",
    "                seqgroup[i].states[listnum].append(statename)\n",
    "            elif seqgroup[i].sequence.find(stateseq[0:halfpoint])>-1:\n",
    "                if seqCompare(seqgroup[i].sequence,stateseq)==1:\n",
    "                    seqgroup[i].states[listnum].append(statenamemut)\n",
    "            elif seqgroup[i].sequence.find(stateseq[halfpoint:])>-1:\n",
    "                if seqCompare(seqgroup[i].sequence,stateseq)==1:\n",
    "                    seqgroup[i].states[listnum].append(statenamemut)\n",
    "        if i%10000==0:\n",
    "            print i\n",
    "    return seqgroup"
   ]
  },
  {
   "cell_type": "code",
   "execution_count": 6,
   "metadata": {
    "collapsed": true
   },
   "outputs": [],
   "source": [
    "def testastateSpec(statename,stateseq,seqgroup,listnum):\n",
    "    statenamemut=statename+\"M\"\n",
    "    halfpoint=len(stateseq)/2\n",
    "    for i in range(len(seqgroup)):\n",
    "        if seqgroup[i].sequence.find(stateseq)>-1:\n",
    "            seqgroup[i].states[listnum].append(statename)\n",
    "        elif seqgroup[i].sequence.find(stateseq[0:halfpoint])>-1:\n",
    "            if seqCompare(seqgroup[i].sequence,stateseq)==1:\n",
    "                seqgroup[i].states[listnum].append(statenamemut)\n",
    "        elif seqgroup[i].sequence.find(stateseq[halfpoint:])>-1:\n",
    "            if seqCompare(seqgroup[i].sequence,stateseq)==1:\n",
    "                seqgroup[i].states[listnum].append(statenamemut)\n",
    "        if i%10000==0:\n",
    "            print i\n",
    "    return seqgroup"
   ]
  },
  {
   "cell_type": "code",
   "execution_count": 7,
   "metadata": {
    "collapsed": true
   },
   "outputs": [],
   "source": [
    "def testExclusivestate(statename,stateseq,seqgroup):\n",
    "    statenamemut=statename+\"M\"\n",
    "    halfpoint=len(stateseq)/2\n",
    "    for i in range(len(seqgroup)):\n",
    "        if len(seqgroup[i].states)==0:\n",
    "            if seqgroup[i].sequence.find(stateseq)>-1:\n",
    "                seqgroup[i].states.append(statename)\n",
    "            elif seqgroup[i].sequence.find(stateseq[0:halfpoint])>-1:\n",
    "                if seqCompare(seqgroup[i].sequence,stateseq)==1:\n",
    "                    seqgroup[i].states.append(statenamemut)\n",
    "            elif seqgroup[i].sequence.find(stateseq[halfpoint:])>-1:\n",
    "                if seqCompare(seqgroup[i].sequence,stateseq)==1:\n",
    "                    seqgroup[i].states.append(statenamemut)\n",
    "        if i%10000==0:\n",
    "            print i\n",
    "    return seqgroup"
   ]
  },
  {
   "cell_type": "code",
   "execution_count": 8,
   "metadata": {
    "collapsed": true
   },
   "outputs": [],
   "source": [
    "def seqCompare(seq1,seq2):\n",
    "    if len(seq1)>len(seq2):\n",
    "        n=0\n",
    "        bestScore=1000\n",
    "        while n<=(len(seq1)-len(seq2)):\n",
    "            currentScore=distance(seq1[n:(len(seq2)+n)],seq2)\n",
    "            if currentScore<bestScore:\n",
    "                bestScore=currentScore\n",
    "            n=n+1\n",
    "        if bestScore>1:\n",
    "            n=0\n",
    "            while n<=(len(seq1)-(len(seq2)+1)):\n",
    "                currentScore=distance(seq1[n:(len(seq2)+n+1)],seq2)\n",
    "                if currentScore<bestScore:\n",
    "                    bestScore=currentScore\n",
    "                n=n+1\n",
    "            if bestScore>1:\n",
    "                n=0\n",
    "                while n<=(len(seq1)-(len(seq2)-1)):\n",
    "                    currentScore=distance(seq1[n:(len(seq2)+n-1)],seq2)\n",
    "                    if currentScore<bestScore:\n",
    "                        bestScore=currentScore\n",
    "                    n=n+1\n",
    "    else:\n",
    "        if len(seq2)>len(seq1):\n",
    "            n=0\n",
    "            bestScore=1000\n",
    "            while n<=(len(seq2)-len(seq1)):\n",
    "                currentScore=distance(seq2[n:(len(seq1)+n)],seq1)\n",
    "                if currentScore<bestScore:\n",
    "                    bestScore=currentScore\n",
    "                n=n+1\n",
    "            if bestScore>1:\n",
    "                n=0\n",
    "                while n<=(len(seq2)-(len(seq1)+1)):\n",
    "                    currentScore=distance(seq2[n:(len(seq1)+n+1)],seq1)\n",
    "                    if currentScore<bestScore:\n",
    "                        bestScore=currentScore\n",
    "                    n=n+1\n",
    "                    \n",
    "                if bestScore>1:\n",
    "                    n=0\n",
    "                    while n<=(len(seq2)-(len(seq1)-1)):\n",
    "                        currentScore=distance(seq2[n:(len(seq1)+n-1)],seq1)\n",
    "                        if currentScore<bestScore:\n",
    "                            bestScore=currentScore\n",
    "                        n=n+1\n",
    "                    \n",
    "        else:\n",
    "            bestScore=distance(seq1,seq2)\n",
    "    return bestScore"
   ]
  },
  {
   "cell_type": "code",
   "execution_count": 9,
   "metadata": {
    "collapsed": true
   },
   "outputs": [],
   "source": [
    "def manystatestogether(searchlist,statelistacc):\n",
    "    totalperfect=0\n",
    "    totalmm=0\n",
    "    for i in range(len(datagroup)):\n",
    "        if distance(datagroup[i].noUs,masterACG)<6:\n",
    "            placeholder=0\n",
    "            placeholdermm=0\n",
    "            for j in range(len(statelistacc)):\n",
    "                if searchlist[j] in datagroup[i].states[statelistacc[j]]:\n",
    "                    placeholder=placeholder+1\n",
    "                elif searchlist[j]+\"M\" in datagroup[i].states[statelistacc[j]]:\n",
    "                    amibest=0\n",
    "                    if datagroup[i].states[statelistacc[j]][0]!=searchlist[j]+\"M\":\n",
    "                        amibest=-1\n",
    "                    for k in range(len(datagroup[i].states[statelistacc[j]])):\n",
    "                        if datagroup[i].states[statelistacc[j]][k]==searchlist[j]+\"M\":\n",
    "                            if amibest==0:\n",
    "                                amibest=1\n",
    "                        if datagroup[i].states[statelistacc[j]][k][-1]!=\"M\":\n",
    "                            amibest=-1\n",
    "                    if amibest==1:\n",
    "                        placeholdermm=placeholdermm+1\n",
    "            if placeholder==len(searchlist):\n",
    "                totalperfect=totalperfect+datagroup[i].abundance\n",
    "            elif (placeholder+placeholdermm)==len(searchlist):\n",
    "                totalmm=totalmm+datagroup[i].abundance\n",
    "    return totalperfect,totalmm"
   ]
  },
  {
   "cell_type": "markdown",
   "metadata": {},
   "source": [
    "This cell opens and reads the states file.  The states file needs the sequences of each editing block in their fully edited and unedited forms.  The states can be of any length as long as all states within an editing block have the same ACG nucleotides.  To ensure full coverage of the data set, the nucleotides on the ends of the blocks should always be ACGs and should be shared with the neighboring editing blocks.  \n",
    "\n",
    "For example:\n",
    "\n",
    "Full sequence: \"ACGUCUAGUAGUGAUCUAUCUG\"\n",
    "\n",
    "Block B: \"ACGUCUAGUAG\"\n",
    "\n",
    "Block A: \"GUGAUCUAUCUG\"\n",
    "\n",
    "The states file has a fasta format and each state can have any name, but the first character must be the name of the block that state is a part of, and the state name must end in -0.\n",
    "\n",
    "Example:\n",
    "\">A001-0\n",
    "\n",
    "GUGAUCUAUCUG\"\n",
    "\n",
    "Unedited states should start with the block level character and end with Uned\n",
    "\n",
    "Example:\n",
    "\">AUned-0\"\n",
    "\n",
    "\n",
    "The state name list just a list of the names of each block.  Set the block names as one character.  The output of this cell gives a list of all states that fall under that block as well as the individual sequences of the states"
   ]
  },
  {
   "cell_type": "code",
   "execution_count": 10,
   "metadata": {
    "scrolled": true
   },
   "outputs": [
    {
     "name": "stdout",
     "output_type": "stream",
     "text": [
      "0\n",
      "Alist=[0, 3]\n",
      "Blist=[1, 4]\n",
      "Clist=[2, 5]\n",
      "AUned,ACGAGCAGUCGCAUGGUUUUUUGG\n",
      "A001,ACGAGCAGUUUCGUCAUUUUGUUUGUUGUG\n",
      "BUned,GGCACUAAUUUUUAGCGUUUACGCA\n",
      "B001,GUUUUGUUCUUUUACUUUUAUUUAUUUUAGUUUUCGUUAUUUUCUUUGUUUCUA\n",
      "CUned,AAGUUAGAGGUUUCGCGUUUUUAGGA\n",
      "C001,AUAUUUUGUUUUAUUUUGUUUAGGUUUUCUUUGCUUUUGUUUUUAGGA\n"
     ]
    }
   ],
   "source": [
    "statesfile=\"teststates.fa\"\n",
    "statesgroup=extractSequences(statesfile)\n",
    "statenamelist=[\"A\",\"B\",\"C\"]\n",
    "statelistlist=[]\n",
    "for j in range(len(statenamelist)):\n",
    "    statelistlist.append([])\n",
    "    for i in range(len(statesgroup)):\n",
    "        if statesgroup[i].accession[0]==statenamelist[j]:\n",
    "            statelistlist[j].append(i)\n",
    "    print statenamelist[j]+\"list=\"+str(statelistlist[j])\n",
    "\n",
    "for i in range(len(statenamelist)):\n",
    "    for j in range(len(statelistlist[i])):\n",
    "        print statesgroup[statelistlist[i][j]].accession+\",\"+statesgroup[statelistlist[i][j]].sequence\n",
    "        \n"
   ]
  },
  {
   "cell_type": "markdown",
   "metadata": {},
   "source": [
    "This cell extracts the sequences from the data files. Data files must be in fasta format with names formatted as follows\n",
    "\n",
    "\">AccessionNumber-Reads\"\n",
    "\n",
    "Example:\n",
    "\">239402385-12\"\n",
    "\n",
    "Output of this cell shows the progress of the extraction and time elapsed."
   ]
  },
  {
   "cell_type": "code",
   "execution_count": 11,
   "metadata": {
    "scrolled": true
   },
   "outputs": [
    {
     "name": "stdout",
     "output_type": "stream",
     "text": [
      "Extracting Sequences\n",
      "0\n",
      "0\n",
      "0.00399994850159\n",
      "Sequences extracted\n"
     ]
    }
   ],
   "source": [
    "t0=time.time()\n",
    "\n",
    "statesfile=\"teststates.fa\"\n",
    "datafile=\"testmRNAs.fa\"\n",
    "\n",
    "print \"Extracting Sequences\"\n",
    "statesgroup=extractSequences(statesfile)\n",
    "datagroup=extractSequences(datafile)\n",
    "t1=time.time()\n",
    "print t1-t0\n",
    "print \"Sequences extracted\""
   ]
  },
  {
   "cell_type": "markdown",
   "metadata": {},
   "source": [
    "This cell tests for all possible states.  For each state it looks for perfect matches and matches with a single mismatch.  \n",
    "\n",
    "The output of this cell shows the progress of the search."
   ]
  },
  {
   "cell_type": "code",
   "execution_count": 12,
   "metadata": {
    "scrolled": false
   },
   "outputs": [
    {
     "name": "stdout",
     "output_type": "stream",
     "text": [
      "Testing 2 states for population A.\n",
      "State AUned\n",
      "0\n",
      "0.00400018692017\n",
      "State A001\n",
      "0\n",
      "0.00500011444092\n",
      "Testing 2 states for population B.\n",
      "State BUned\n",
      "0\n",
      "0.00800013542175\n",
      "State B001\n",
      "0\n",
      "0.00800013542175\n",
      "Testing 2 states for population C.\n",
      "State CUned\n",
      "0\n",
      "0.0090000629425\n",
      "State C001\n",
      "0\n",
      "0.0170001983643\n",
      "0.018000125885\n"
     ]
    }
   ],
   "source": [
    "t0=time.time()\n",
    "\n",
    "for m in range(len(statelistlist)):\n",
    "    print \"Testing \"+str(len(statelistlist[m]))+\" states for population \"+statenamelist[m]+\".\"\n",
    "    for i in statelistlist[m]:\n",
    "        mindistance=100\n",
    "        for j in range(statelistlist[m].index(i)):\n",
    "            testdistance=distance(statesgroup[i].sequence,statesgroup[statelistlist[m][j]].sequence)\n",
    "            if testdistance>0:\n",
    "                if testdistance<mindistance:\n",
    "                    mindistance=testdistance\n",
    "        print \"State \"+statesgroup[i].accession\n",
    "        if mindistance>2:\n",
    "            datagroup=testastateSpecExcl(statesgroup[i].accession,statesgroup[i].sequence,datagroup,m)\n",
    "        else:\n",
    "            datagroup=testastateSpec(statesgroup[i].accession,statesgroup[i].sequence,datagroup,m)\n",
    "        tx=time.time()\n",
    "        print tx-t0\n",
    "    for j in range(len(datagroup)):\n",
    "        if len(datagroup[j].states[m])>0:\n",
    "            unedited=\"yes\"\n",
    "            for k in range(len(datagroup[j].states[m])):\n",
    "                if datagroup[j].states[m][k].find(\"Uned\")==-1:\n",
    "                    unedited=\"no\"\n",
    "            if unedited==\"yes\":\n",
    "                datagroup[j].uned[m]=\"unedited\"\n",
    "            else:\n",
    "                datagroup[j].uned[m]=\"edited\"\n",
    "    \n",
    "t2=time.time()\n",
    "print t2-t0\n",
    "  \n"
   ]
  },
  {
   "cell_type": "markdown",
   "metadata": {},
   "source": [
    "This cell prints out all counts filtered and unfiltered once the previous cell is completed.  States with an \"M\" at the end of the name show the counts of that state for sequences that differed from the state by a signle mismatch.  This cell requires the input of the ACG sequence of the mRNA.  This allows the program to filter out sequences that have mismatches to the ACG sequence greater than or equal to the cutoff.  \n"
   ]
  },
  {
   "cell_type": "code",
   "execution_count": 13,
   "metadata": {
    "scrolled": true
   },
   "outputs": [
    {
     "name": "stdout",
     "output_type": "stream",
     "text": [
      "AUned#175#175\n",
      "A001#170#170\n",
      "AUnaccounted#65#50\n",
      "BUned#103#103\n",
      "B001#220#220\n",
      "BUnaccounted#85#70\n",
      "BUnedM#2#2\n",
      "CUned#117#102\n",
      "C001#210#210\n",
      "C001M#80#80\n",
      "CUnaccounted#3#3\n"
     ]
    }
   ],
   "source": [
    "masterACG=\"ACGAGCAGCGCAGGGGGCACAAAGCGACGCAAGAGAGGCGCGAGGA\"\n",
    "cutoff=6\n",
    "\n",
    "for k in range(len(statelistlist)):\n",
    "    statecombolist=[]\n",
    "    statecomboabund=[]\n",
    "    statecomboabundStringent=[]\n",
    "    for i in range(len(datagroup)):\n",
    "        if datagroup[i].states[k] not in statecombolist:\n",
    "            statecombolist.append(datagroup[i].states[k])\n",
    "            statecomboabund.append(0)\n",
    "            statecomboabundStringent.append(0)\n",
    "        position=statecombolist.index(datagroup[i].states[k])\n",
    "        statecomboabund[position]=statecomboabund[position]+datagroup[i].abundance\n",
    "        if distance(datagroup[i].noUs,masterACG)<cutoff:\n",
    "            statecomboabundStringent[position]=statecomboabundStringent[position]+datagroup[i].abundance\n",
    "    for j in range(len(statecombolist)):\n",
    "        if len(statecombolist[j])==0:\n",
    "            print str(statenamelist[k])+\"Unaccounted\"+\"#\"+str(statecomboabund[j])+\"#\"+str(statecomboabundStringent[j])\n",
    "        elif len(statecombolist[j])==1:\n",
    "            print str(statecombolist[j][0])+\"#\"+str(statecomboabund[j])+\"#\"+str(statecomboabundStringent[j])\n",
    "        elif len(statecombolist[j])>1:\n",
    "            keepingMain=0\n",
    "            firstgood=0\n",
    "            for q in range(len(statecombolist[j])):\n",
    "                if firstgood==0:\n",
    "                    if statecombolist[j][q][-1]!=\"M\":\n",
    "                        keepingMain=q\n",
    "                        firstgood=1\n",
    "            statecombolist[j]=[statecombolist[j][keepingMain]]\n",
    "            print str(statecombolist[j][0])+\"#\"+str(statecomboabund[j])+\"#\"+str(statecomboabundStringent[j])"
   ]
  },
  {
   "cell_type": "markdown",
   "metadata": {},
   "source": [
    "This cell counts all the transcripts that are fully unedited and outputs the number of fully unedited reads before and after the filter. It does include sequences that have a single mismatch in the unedited state as well.  "
   ]
  },
  {
   "cell_type": "code",
   "execution_count": 14,
   "metadata": {},
   "outputs": [
    {
     "name": "stdout",
     "output_type": "stream",
     "text": [
      "102\n",
      "102\n"
     ]
    }
   ],
   "source": [
    "countuned=0\n",
    "countunedfil=0\n",
    "for i in range(len(datagroup)):\n",
    "    unedited=0\n",
    "    for j in range(len(statenamelist)):\n",
    "        target=statenamelist[j]+\"Uned\"\n",
    "        targetM=target+\"M\"\n",
    "        if target in datagroup[i].states[j]:\n",
    "            unedited=unedited+1\n",
    "        elif targetM in datagroup[i].states[j]:\n",
    "            if len(datagroup[i].states[j])==1:\n",
    "                unedited=unedited+1\n",
    "            elif datagroup[i].states[j][0]==targetM:\n",
    "                unedited=unedited+1\n",
    "    if unedited==len(statenamelist):\n",
    "        countuned=countuned+datagroup[i].abundance\n",
    "        if distance(datagroup[i].noUs,masterACG)<6:\n",
    "            countunedfil=countunedfil+datagroup[i].abundance\n",
    "\n",
    "        \n",
    "\n",
    "        \n",
    "print countuned\n",
    "print countunedfil"
   ]
  },
  {
   "cell_type": "markdown",
   "metadata": {},
   "source": [
    "This cell prints out which states go together between editing blocks.  teststub requires the input of two block editing levels.\n",
    "\n",
    "The output of this cell gives the filtered number of reads that have both listed states.  "
   ]
  },
  {
   "cell_type": "code",
   "execution_count": 15,
   "metadata": {
    "scrolled": true
   },
   "outputs": [
    {
     "name": "stdout",
     "output_type": "stream",
     "text": [
      "['AUned', 'BUned'] - 103\n",
      "['A001', 'B001'] - 170\n",
      "['AUned', 'BUnedM'] - 2\n"
     ]
    }
   ],
   "source": [
    "teststub=[\"A\",\"B\"]\n",
    "compare2=list()\n",
    "for q in range(len(teststub)):\n",
    "    compare2.append(statenamelist.index(teststub[q]))\n",
    "\n",
    "gofor=len(compare2)\n",
    "\n",
    "for i in range(gofor):\n",
    "    compare1=compare2.pop(0)\n",
    "    musthavestub=teststub.pop(0)\n",
    "    for w in range(len(compare2)):\n",
    "        #print \"i'm working\"\n",
    "\n",
    "        for i in range(len(datagroup)):\n",
    "            #if i%10000==0:\n",
    "                #print \"going through the data\"\n",
    "            datagroup[i].statesCompare=[]\n",
    "            datagroup[i].statesCompare=datagroup[i].states[compare1]+datagroup[i].states[compare2[w]]\n",
    "\n",
    "\n",
    "        statecombolist=[]\n",
    "        statecomboabund=[]\n",
    "\n",
    "        for i in range(len(datagroup)):\n",
    "            #if i%10000==0:\n",
    "                #print \"something else is happening\"\n",
    "            if distance(datagroup[i].noUs,masterACG)<6:\n",
    "                if datagroup[i].statesCompare not in statecombolist:\n",
    "                    statecombolist.append(datagroup[i].statesCompare)\n",
    "                    statecomboabund.append(0)\n",
    "                position=statecombolist.index(datagroup[i].statesCompare)\n",
    "                statecomboabund[position]=statecomboabund[position]+datagroup[i].abundance\n",
    "\n",
    "\n",
    "        for j in range(len(statecombolist)):\n",
    "            if len(statecombolist[j])>1:\n",
    "                if musthavestub == statecombolist[j][0][0]:\n",
    "                    if teststub[w] == statecombolist[j][-1][0]:\n",
    "                #if musthavestub == statecombolist[j][0][0:2]:\n",
    "                    #if teststub[w] == statecombolist[j][-1][0:2]:\n",
    "                        if len(statecombolist[j])>2:\n",
    "                            keepingMain=0\n",
    "                            keepingTest=0\n",
    "                            foundTestYet=\"No\"\n",
    "                            for q in range(len(statecombolist[j])):\n",
    "                                if foundTestYet==\"No\":\n",
    "                                    if statecombolist[j][q][0]==musthavestub:\n",
    "                                    #if statecombolist[j][q][0:2]==musthavestub:\n",
    "                                        if statecombolist[j][q][-1]!=\"M\":\n",
    "                                            keepingMain=q\n",
    "                                    else:\n",
    "                                        foundTestYet=\"Yes\"\n",
    "                                        keepingTest=q\n",
    "                                if foundTestYet==\"Yes\":\n",
    "                                    if statecombolist[j][keepingTest][-1]==\"M\":\n",
    "                                        if statecombolist[j][q][-1]!=\"M\":\n",
    "                                            keepingTest=q\n",
    "                            statecombolist[j]=[statecombolist[j][keepingMain],statecombolist[j][keepingTest]]\n",
    "\n",
    "                        #print str(statecombolist[j])+\" - \"+str(statecomboabund[j])\n",
    "\n",
    "        newcombolist=[]\n",
    "        newcomboabund=[]\n",
    "        for k in range(len(statecombolist)):\n",
    "            if statecombolist[k] not in newcombolist:\n",
    "                newcombolist.append(statecombolist[k])\n",
    "                newcomboabund.append(0)\n",
    "            position=newcombolist.index(statecombolist[k])\n",
    "            newcomboabund[position]=newcomboabund[position]+statecomboabund[k]\n",
    "\n",
    "        for l in range(len(newcombolist)):\n",
    "            if len(newcombolist[l])>1:\n",
    "                if musthavestub == newcombolist[l][0][0]:\n",
    "                    if teststub[w] == newcombolist[l][-1][0]:\n",
    "                #if musthavestub == newcombolist[l][0][0:2]:\n",
    "                    #if teststub[w] == newcombolist[l][-1][0:2]:\n",
    "                        print str(newcombolist[l])+\" - \"+str(newcomboabund[l])\n"
   ]
  },
  {
   "cell_type": "markdown",
   "metadata": {},
   "source": [
    "This cell prints out the number of sequences containing a combination of upwards of two states. First number in the output is perfect, second number has at least one state with a mismatch.\n",
    "\n",
    "\n",
    "searchlist requires the specific name of the states being tested.\n",
    "statelistacc requires the position of the block level each state is from in the statenamelist"
   ]
  },
  {
   "cell_type": "code",
   "execution_count": 16,
   "metadata": {},
   "outputs": [
    {
     "data": {
      "text/plain": [
       "(90, 80)"
      ]
     },
     "execution_count": 16,
     "metadata": {},
     "output_type": "execute_result"
    }
   ],
   "source": [
    "searchlist=['A001','B001','C001']\n",
    "\n",
    "compare3=list()\n",
    "for q in range(len(searchlist)):\n",
    "    compare3.append(statenamelist.index(searchlist[q][0]))\n",
    "\n",
    "manystatestogether(searchlist,compare3)"
   ]
  },
  {
   "cell_type": "markdown",
   "metadata": {},
   "source": [
    "This cell pulls out all mRNAs that don't have a match to any of the references sequences for each editing block.  Only sequences above the input cutoff are pulled.  \n",
    "\n",
    "The output of this cell shows the accession number of the sequence, the number of reads of the sequence, and the sequence itself.  "
   ]
  },
  {
   "cell_type": "code",
   "execution_count": 17,
   "metadata": {},
   "outputs": [
    {
     "name": "stdout",
     "output_type": "stream",
     "text": [
      "Block A\n",
      "2827475,50,ACGAGCAGUCUUGCAUGGUUGGUUUUGUUCUUUUACUUUUAUUUAUUUUAGUUUUCGUUAUUUUCUUUGUUUCUAUAUUUUGUUUUAUUUUGUUUAGGUUUUCUUUGCUUUUGUUUUUAGGA\n",
      "Block B\n",
      "29349324,70,ACGAGCAGUCGCAUGGUUUUUUGGGCACUAAUUUAGCGACGUUUCUAUAUUUUGUUUUAUUUUGUUUAGGUUUUCUUUGCUUUUGUUUUUAGGA\n",
      "Block C\n",
      "5043,3,ACGAGCAGUCGCAUGGUUUUUUGGGCACUAAUUUUUAGCGUUUACGCAAGUAUUUUUUUGUAGGCGCUUUUGUUUUUAGGA\n"
     ]
    }
   ],
   "source": [
    "cutoff=1\n",
    "for i in range(len(statelistlist)):\n",
    "    print \"Block \"+statenamelist[i]\n",
    "    for j in range(len(datagroup)):\n",
    "        check=distance(datagroup[j].noUs,masterACG)\n",
    "        if check<6:\n",
    "            if len(datagroup[j].states[i])==0:\n",
    "                if datagroup[j].abundance>cutoff:\n",
    "                    print datagroup[j].accession+\",\"+str(datagroup[j].abundance)+\",\"+datagroup[j].sequence"
   ]
  },
  {
   "cell_type": "markdown",
   "metadata": {},
   "source": [
    "This cell looks for one specific sequence in every mRNA regardless of editing block.  \n",
    "\n",
    "The outputs of this cell are all sequences containing the testseq above a set cutoff and the number of reads with a perfect match and the number of reads with a single mismatch to the testseq."
   ]
  },
  {
   "cell_type": "code",
   "execution_count": 18,
   "metadata": {
    "scrolled": true
   },
   "outputs": [
    {
     "name": "stdout",
     "output_type": "stream",
     "text": [
      "GUUCUUUUAC\n",
      "8234998234-90-ACGAGCAGUUUCGUCAUUUUGUUUGUUGUGUUUUGUUCUUUUACUUUUAUUUAUUUUAGUUUUCGUUAUUUUCUUUGUUUCUAUAUUUUGUUUUAUUUUGUUUAGGUUUUCUUUGCUUUUGUUUUUAGGA\n",
      "2342934-80-ACGAGCAGUUUCGUCAUUUUGUUUGUUGUGUUUUGUUCUUUUACUUUUAUUUAUUUUAGUUUUCGUUAUUUUCUUUGUUUCUAUAUUUUGUUUAUUUUGUUUAGGUUUUCUUUGCUUUUGUUUUUAGGA\n",
      "2827475-50-ACGAGCAGUCUUGCAUGGUUGGUUUUGUUCUUUUACUUUUAUUUAUUUUAGUUUUCGUUAUUUUCUUUGUUUCUAUAUUUUGUUUUAUUUUGUUUAGGUUUUCUUUGCUUUUGUUUUUAGGA\n",
      "220\n",
      "0\n"
     ]
    }
   ],
   "source": [
    "testseq=\"GUUCUUUUAC\"\n",
    "cutoff=5\n",
    "testseq=testseq.replace(\"u\",\"U\")\n",
    "print testseq\n",
    "halfpoint=int(len(testseq)/2)\n",
    "tophalf=testseq[0:halfpoint]\n",
    "bottomhalf=testseq[halfpoint:]\n",
    "tsreads=0\n",
    "tsmmreads=0\n",
    "t0=time.time()\n",
    "for i in range(len(datagroup)):\n",
    "    go=0\n",
    "    if distance(datagroup[i].noUs,masterACG)<6:\n",
    "        go=go+1\n",
    "    if datagroup[i].sequence.find(tophalf)!=-1:\n",
    "        go=go+1\n",
    "    elif datagroup[i].sequence.find(bottomhalf)!=-1:\n",
    "        go=go+1\n",
    "    if go==2:\n",
    "        newtest=seqCompare(testseq,datagroup[i].sequence)\n",
    "        if newtest==0:\n",
    "            tsreads=tsreads+datagroup[i].abundance\n",
    "            if datagroup[i].abundance>cutoff:\n",
    "                print datagroup[i].accession+\"-\"+str(datagroup[i].abundance)+\"-\"+datagroup[i].sequence\n",
    "        elif newtest==1:\n",
    "            tsmmreads=tsmmreads+datagroup[i].abundance\n",
    "    #if i%10000==0:\n",
    "        #t1=time.time()\n",
    "        #print str(i)+\"-\"+str(tsreads)+\"-\"+str(tsmmreads)+\"-\"+str(t1-t0)\n",
    "print tsreads\n",
    "print tsmmreads\n"
   ]
  },
  {
   "cell_type": "code",
   "execution_count": null,
   "metadata": {
    "collapsed": true
   },
   "outputs": [],
   "source": []
  }
 ],
 "metadata": {
  "kernelspec": {
   "display_name": "Python 2",
   "language": "python",
   "name": "python2"
  },
  "language_info": {
   "codemirror_mode": {
    "name": "ipython",
    "version": 2
   },
   "file_extension": ".py",
   "mimetype": "text/x-python",
   "name": "python",
   "nbconvert_exporter": "python",
   "pygments_lexer": "ipython2",
   "version": "2.7.13"
  }
 },
 "nbformat": 4,
 "nbformat_minor": 2
}
